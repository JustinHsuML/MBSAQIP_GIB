{
 "cells": [
  {
   "cell_type": "code",
   "execution_count": 1,
   "metadata": {},
   "outputs": [],
   "source": [
    "# %%\n",
    "import numpy as np\n",
    "import pandas as pd\n",
    "from sklearn.metrics import average_precision_score, precision_recall_curve, roc_auc_score, roc_curve, auc\n",
    "from sklearn.model_selection import train_test_split, cross_val_score\n",
    "from tensorflow import keras\n",
    "from math import sqrt\n",
    "from sklearn.linear_model import LogisticRegression\n",
    "from sklearn.ensemble import RandomForestClassifier\n",
    "from xgboost.sklearn import XGBClassifier\n",
    "from sklearn.model_selection import StratifiedKFold\n",
    "import matplotlib.pyplot as plt\n",
    "import csv\n"
   ]
  },
  {
   "cell_type": "code",
   "execution_count": 2,
   "metadata": {},
   "outputs": [],
   "source": [
    "# %%\n",
    "pd.options.display.max_rows = 20\n",
    "pd.options.display.max_columns = 200"
   ]
  },
  {
   "cell_type": "code",
   "execution_count": 3,
   "metadata": {},
   "outputs": [],
   "source": [
    "def roc_auc_ci(y_true, y_score, positive=1):\n",
    "    AUC = roc_auc_score(y_true, y_score)\n",
    "    N1 = sum(y_true == positive)\n",
    "    N2 = sum(y_true != positive)\n",
    "    Q1 = AUC / (2 - AUC)\n",
    "    Q2 = 2*AUC**2 / (1 + AUC)\n",
    "    SE_AUC = sqrt((AUC*(1 - AUC) + (N1 - 1)*(Q1 - AUC**2) + (N2 - 1)*(Q2 - AUC**2)) / (N1*N2))\n",
    "    lower = AUC - 1.96*SE_AUC\n",
    "    upper = AUC + 1.96*SE_AUC\n",
    "    if lower < 0:\n",
    "        lower = 0\n",
    "    if upper > 1:\n",
    "        upper = 1\n",
    "    return (lower, AUC, upper)\n",
    "\n",
    "def roc_prc_ci(y_true, y_score, positive=1):\n",
    "    AUC = average_precision_score(y_true, y_score)\n",
    "    N1 = sum(y_true == positive)\n",
    "    N2 = sum(y_true != positive)\n",
    "    Q1 = AUC / (2 - AUC)\n",
    "    Q2 = 2*AUC**2 / (1 + AUC)\n",
    "    SE_AUC = sqrt((AUC*(1 - AUC) + (N1 - 1)*(Q1 - AUC**2) + (N2 - 1)*(Q2 - AUC**2)) / (N1*N2))\n",
    "    lower = AUC - 1.96*SE_AUC\n",
    "    upper = AUC + 1.96*SE_AUC\n",
    "    if lower < 0:\n",
    "        lower = 0\n",
    "    if upper > 1:\n",
    "        upper = 1\n",
    "    return (lower, AUC, upper)"
   ]
  },
  {
   "cell_type": "code",
   "execution_count": 4,
   "metadata": {},
   "outputs": [],
   "source": [
    "train = pd.read_csv('train_cptdc_nopost_noint_80.csv')\n",
    "test = pd.read_csv('test_cptdc_nopost_noint_20.csv')\n",
    "\n",
    "# /home/loganlog/Documents/mbsaqip_bleed/data/train_cptdc_nopost_noint.csv"
   ]
  },
  {
   "cell_type": "code",
   "execution_count": 5,
   "metadata": {},
   "outputs": [
    {
     "name": "stdout",
     "output_type": "stream",
     "text": [
      "(127967, 46) (31992, 46)\n"
     ]
    }
   ],
   "source": [
    "print(train.shape, test.shape)"
   ]
  },
  {
   "cell_type": "code",
   "execution_count": 6,
   "metadata": {},
   "outputs": [
    {
     "data": {
      "text/plain": [
       "0.2500019536286699"
      ]
     },
     "execution_count": 6,
     "metadata": {},
     "output_type": "execute_result"
    }
   ],
   "source": [
    "test.shape[0] / train.shape[0]"
   ]
  },
  {
   "cell_type": "code",
   "execution_count": 7,
   "metadata": {},
   "outputs": [
    {
     "data": {
      "text/html": [
       "<div>\n",
       "<style scoped>\n",
       "    .dataframe tbody tr th:only-of-type {\n",
       "        vertical-align: middle;\n",
       "    }\n",
       "\n",
       "    .dataframe tbody tr th {\n",
       "        vertical-align: top;\n",
       "    }\n",
       "\n",
       "    .dataframe thead th {\n",
       "        text-align: right;\n",
       "    }\n",
       "</style>\n",
       "<table border=\"1\" class=\"dataframe\">\n",
       "  <thead>\n",
       "    <tr style=\"text-align: right;\">\n",
       "      <th></th>\n",
       "      <th>SEX</th>\n",
       "      <th>AGE</th>\n",
       "      <th>CPT</th>\n",
       "      <th>GERD</th>\n",
       "      <th>MOBILITY_DEVICE</th>\n",
       "      <th>MI_ALL_HISTORY</th>\n",
       "      <th>PTC</th>\n",
       "      <th>PCARD</th>\n",
       "      <th>HIP</th>\n",
       "      <th>HYPERLIPIDEMIA</th>\n",
       "      <th>WGT_HIGH_BAR</th>\n",
       "      <th>WGT_CLOSEST</th>\n",
       "      <th>BMI</th>\n",
       "      <th>BMI_HIGH_BAR</th>\n",
       "      <th>HISTORY_DVT</th>\n",
       "      <th>VENOUS_STASIS</th>\n",
       "      <th>DIALYSIS</th>\n",
       "      <th>RENAL_INSUFFICIENCY</th>\n",
       "      <th>THERAPEUTIC_ANTICOAGULATION</th>\n",
       "      <th>PREVIOUS_SURGERY</th>\n",
       "      <th>DIABETES</th>\n",
       "      <th>SMOKER</th>\n",
       "      <th>FUNSTATPRESURG</th>\n",
       "      <th>COPD</th>\n",
       "      <th>OXYGEN_DEPENDENT</th>\n",
       "      <th>HISTORY_PE</th>\n",
       "      <th>SLEEP_APNEA</th>\n",
       "      <th>CHRONIC_STEROIDS</th>\n",
       "      <th>IVC_FILTER</th>\n",
       "      <th>IVC_TIMING</th>\n",
       "      <th>ALBUMIN</th>\n",
       "      <th>HCT</th>\n",
       "      <th>SURGICAL_APPROACH</th>\n",
       "      <th>ASACLASS</th>\n",
       "      <th>DTOP</th>\n",
       "      <th>OPYEAR</th>\n",
       "      <th>SURGSPECIALTY_BAR</th>\n",
       "      <th>CREATININE</th>\n",
       "      <th>HEMO</th>\n",
       "      <th>RACE_PUF</th>\n",
       "      <th>HISPANIC</th>\n",
       "      <th>NBHTN_MEDS</th>\n",
       "      <th>ROBOTIC_ASST</th>\n",
       "      <th>GITRACTBLEED</th>\n",
       "      <th>WEIGHT_DIFFERENCE</th>\n",
       "      <th>CPTLABEL</th>\n",
       "    </tr>\n",
       "  </thead>\n",
       "  <tbody>\n",
       "    <tr>\n",
       "      <th>0</th>\n",
       "      <td>0</td>\n",
       "      <td>0.927530</td>\n",
       "      <td>0</td>\n",
       "      <td>0</td>\n",
       "      <td>0</td>\n",
       "      <td>0</td>\n",
       "      <td>0</td>\n",
       "      <td>0</td>\n",
       "      <td>1</td>\n",
       "      <td>0</td>\n",
       "      <td>-0.596203</td>\n",
       "      <td>-0.596278</td>\n",
       "      <td>-0.784649</td>\n",
       "      <td>-0.784679</td>\n",
       "      <td>0</td>\n",
       "      <td>0</td>\n",
       "      <td>0</td>\n",
       "      <td>0</td>\n",
       "      <td>0</td>\n",
       "      <td>0</td>\n",
       "      <td>0</td>\n",
       "      <td>0</td>\n",
       "      <td>0</td>\n",
       "      <td>0</td>\n",
       "      <td>0</td>\n",
       "      <td>0</td>\n",
       "      <td>0</td>\n",
       "      <td>0</td>\n",
       "      <td>0</td>\n",
       "      <td>3</td>\n",
       "      <td>-0.070922</td>\n",
       "      <td>0.534472</td>\n",
       "      <td>0</td>\n",
       "      <td>2</td>\n",
       "      <td>0</td>\n",
       "      <td>2020</td>\n",
       "      <td>3</td>\n",
       "      <td>-0.102827</td>\n",
       "      <td>-0.190060</td>\n",
       "      <td>7</td>\n",
       "      <td>0</td>\n",
       "      <td>2</td>\n",
       "      <td>0</td>\n",
       "      <td>0</td>\n",
       "      <td>-0.143388</td>\n",
       "      <td>1</td>\n",
       "    </tr>\n",
       "    <tr>\n",
       "      <th>1</th>\n",
       "      <td>0</td>\n",
       "      <td>-0.422138</td>\n",
       "      <td>0</td>\n",
       "      <td>0</td>\n",
       "      <td>0</td>\n",
       "      <td>0</td>\n",
       "      <td>0</td>\n",
       "      <td>0</td>\n",
       "      <td>0</td>\n",
       "      <td>0</td>\n",
       "      <td>1.392301</td>\n",
       "      <td>1.248903</td>\n",
       "      <td>1.215124</td>\n",
       "      <td>1.385497</td>\n",
       "      <td>0</td>\n",
       "      <td>0</td>\n",
       "      <td>0</td>\n",
       "      <td>0</td>\n",
       "      <td>0</td>\n",
       "      <td>0</td>\n",
       "      <td>0</td>\n",
       "      <td>0</td>\n",
       "      <td>0</td>\n",
       "      <td>0</td>\n",
       "      <td>0</td>\n",
       "      <td>0</td>\n",
       "      <td>0</td>\n",
       "      <td>0</td>\n",
       "      <td>0</td>\n",
       "      <td>3</td>\n",
       "      <td>-0.348976</td>\n",
       "      <td>-0.994028</td>\n",
       "      <td>0</td>\n",
       "      <td>2</td>\n",
       "      <td>0</td>\n",
       "      <td>2020</td>\n",
       "      <td>3</td>\n",
       "      <td>-0.384051</td>\n",
       "      <td>-0.542409</td>\n",
       "      <td>7</td>\n",
       "      <td>0</td>\n",
       "      <td>4</td>\n",
       "      <td>0</td>\n",
       "      <td>0</td>\n",
       "      <td>0.999967</td>\n",
       "      <td>1</td>\n",
       "    </tr>\n",
       "    <tr>\n",
       "      <th>2</th>\n",
       "      <td>0</td>\n",
       "      <td>-0.928264</td>\n",
       "      <td>2</td>\n",
       "      <td>0</td>\n",
       "      <td>0</td>\n",
       "      <td>0</td>\n",
       "      <td>0</td>\n",
       "      <td>0</td>\n",
       "      <td>0</td>\n",
       "      <td>0</td>\n",
       "      <td>-0.245184</td>\n",
       "      <td>-0.080993</td>\n",
       "      <td>0.011676</td>\n",
       "      <td>-0.192702</td>\n",
       "      <td>0</td>\n",
       "      <td>0</td>\n",
       "      <td>0</td>\n",
       "      <td>0</td>\n",
       "      <td>0</td>\n",
       "      <td>0</td>\n",
       "      <td>0</td>\n",
       "      <td>0</td>\n",
       "      <td>0</td>\n",
       "      <td>0</td>\n",
       "      <td>0</td>\n",
       "      <td>0</td>\n",
       "      <td>1</td>\n",
       "      <td>0</td>\n",
       "      <td>0</td>\n",
       "      <td>3</td>\n",
       "      <td>1.875454</td>\n",
       "      <td>-0.270002</td>\n",
       "      <td>0</td>\n",
       "      <td>1</td>\n",
       "      <td>0</td>\n",
       "      <td>2020</td>\n",
       "      <td>3</td>\n",
       "      <td>-0.046582</td>\n",
       "      <td>-0.278147</td>\n",
       "      <td>5</td>\n",
       "      <td>2</td>\n",
       "      <td>4</td>\n",
       "      <td>1</td>\n",
       "      <td>0</td>\n",
       "      <td>-0.791788</td>\n",
       "      <td>2</td>\n",
       "    </tr>\n",
       "    <tr>\n",
       "      <th>3</th>\n",
       "      <td>0</td>\n",
       "      <td>-0.084721</td>\n",
       "      <td>2</td>\n",
       "      <td>0</td>\n",
       "      <td>0</td>\n",
       "      <td>0</td>\n",
       "      <td>0</td>\n",
       "      <td>0</td>\n",
       "      <td>0</td>\n",
       "      <td>0</td>\n",
       "      <td>-1.162175</td>\n",
       "      <td>-1.094411</td>\n",
       "      <td>-0.625896</td>\n",
       "      <td>-0.734943</td>\n",
       "      <td>0</td>\n",
       "      <td>0</td>\n",
       "      <td>0</td>\n",
       "      <td>0</td>\n",
       "      <td>0</td>\n",
       "      <td>0</td>\n",
       "      <td>0</td>\n",
       "      <td>0</td>\n",
       "      <td>0</td>\n",
       "      <td>0</td>\n",
       "      <td>0</td>\n",
       "      <td>0</td>\n",
       "      <td>0</td>\n",
       "      <td>0</td>\n",
       "      <td>0</td>\n",
       "      <td>3</td>\n",
       "      <td>-1.183137</td>\n",
       "      <td>0.668551</td>\n",
       "      <td>0</td>\n",
       "      <td>1</td>\n",
       "      <td>0</td>\n",
       "      <td>2020</td>\n",
       "      <td>3</td>\n",
       "      <td>-0.402799</td>\n",
       "      <td>-0.190060</td>\n",
       "      <td>7</td>\n",
       "      <td>2</td>\n",
       "      <td>4</td>\n",
       "      <td>0</td>\n",
       "      <td>0</td>\n",
       "      <td>-0.590118</td>\n",
       "      <td>2</td>\n",
       "    </tr>\n",
       "    <tr>\n",
       "      <th>4</th>\n",
       "      <td>0</td>\n",
       "      <td>-0.843910</td>\n",
       "      <td>0</td>\n",
       "      <td>1</td>\n",
       "      <td>0</td>\n",
       "      <td>0</td>\n",
       "      <td>0</td>\n",
       "      <td>0</td>\n",
       "      <td>0</td>\n",
       "      <td>0</td>\n",
       "      <td>-0.024123</td>\n",
       "      <td>-0.250472</td>\n",
       "      <td>0.217798</td>\n",
       "      <td>0.508450</td>\n",
       "      <td>0</td>\n",
       "      <td>0</td>\n",
       "      <td>0</td>\n",
       "      <td>0</td>\n",
       "      <td>0</td>\n",
       "      <td>1</td>\n",
       "      <td>0</td>\n",
       "      <td>0</td>\n",
       "      <td>0</td>\n",
       "      <td>0</td>\n",
       "      <td>0</td>\n",
       "      <td>0</td>\n",
       "      <td>0</td>\n",
       "      <td>1</td>\n",
       "      <td>0</td>\n",
       "      <td>3</td>\n",
       "      <td>-1.183137</td>\n",
       "      <td>-0.564975</td>\n",
       "      <td>0</td>\n",
       "      <td>2</td>\n",
       "      <td>0</td>\n",
       "      <td>2020</td>\n",
       "      <td>3</td>\n",
       "      <td>0.515865</td>\n",
       "      <td>-0.894758</td>\n",
       "      <td>7</td>\n",
       "      <td>2</td>\n",
       "      <td>4</td>\n",
       "      <td>1</td>\n",
       "      <td>0</td>\n",
       "      <td>1.015480</td>\n",
       "      <td>1</td>\n",
       "    </tr>\n",
       "  </tbody>\n",
       "</table>\n",
       "</div>"
      ],
      "text/plain": [
       "   SEX       AGE  CPT  GERD  MOBILITY_DEVICE  MI_ALL_HISTORY  PTC  PCARD  HIP  \\\n",
       "0    0  0.927530    0     0                0               0    0      0    1   \n",
       "1    0 -0.422138    0     0                0               0    0      0    0   \n",
       "2    0 -0.928264    2     0                0               0    0      0    0   \n",
       "3    0 -0.084721    2     0                0               0    0      0    0   \n",
       "4    0 -0.843910    0     1                0               0    0      0    0   \n",
       "\n",
       "   HYPERLIPIDEMIA  WGT_HIGH_BAR  WGT_CLOSEST       BMI  BMI_HIGH_BAR  \\\n",
       "0               0     -0.596203    -0.596278 -0.784649     -0.784679   \n",
       "1               0      1.392301     1.248903  1.215124      1.385497   \n",
       "2               0     -0.245184    -0.080993  0.011676     -0.192702   \n",
       "3               0     -1.162175    -1.094411 -0.625896     -0.734943   \n",
       "4               0     -0.024123    -0.250472  0.217798      0.508450   \n",
       "\n",
       "   HISTORY_DVT  VENOUS_STASIS  DIALYSIS  RENAL_INSUFFICIENCY  \\\n",
       "0            0              0         0                    0   \n",
       "1            0              0         0                    0   \n",
       "2            0              0         0                    0   \n",
       "3            0              0         0                    0   \n",
       "4            0              0         0                    0   \n",
       "\n",
       "   THERAPEUTIC_ANTICOAGULATION  PREVIOUS_SURGERY  DIABETES  SMOKER  \\\n",
       "0                            0                 0         0       0   \n",
       "1                            0                 0         0       0   \n",
       "2                            0                 0         0       0   \n",
       "3                            0                 0         0       0   \n",
       "4                            0                 1         0       0   \n",
       "\n",
       "   FUNSTATPRESURG  COPD  OXYGEN_DEPENDENT  HISTORY_PE  SLEEP_APNEA  \\\n",
       "0               0     0                 0           0            0   \n",
       "1               0     0                 0           0            0   \n",
       "2               0     0                 0           0            1   \n",
       "3               0     0                 0           0            0   \n",
       "4               0     0                 0           0            0   \n",
       "\n",
       "   CHRONIC_STEROIDS  IVC_FILTER  IVC_TIMING   ALBUMIN       HCT  \\\n",
       "0                 0           0           3 -0.070922  0.534472   \n",
       "1                 0           0           3 -0.348976 -0.994028   \n",
       "2                 0           0           3  1.875454 -0.270002   \n",
       "3                 0           0           3 -1.183137  0.668551   \n",
       "4                 1           0           3 -1.183137 -0.564975   \n",
       "\n",
       "   SURGICAL_APPROACH  ASACLASS  DTOP  OPYEAR  SURGSPECIALTY_BAR  CREATININE  \\\n",
       "0                  0         2     0    2020                  3   -0.102827   \n",
       "1                  0         2     0    2020                  3   -0.384051   \n",
       "2                  0         1     0    2020                  3   -0.046582   \n",
       "3                  0         1     0    2020                  3   -0.402799   \n",
       "4                  0         2     0    2020                  3    0.515865   \n",
       "\n",
       "       HEMO  RACE_PUF  HISPANIC  NBHTN_MEDS  ROBOTIC_ASST  GITRACTBLEED  \\\n",
       "0 -0.190060         7         0           2             0             0   \n",
       "1 -0.542409         7         0           4             0             0   \n",
       "2 -0.278147         5         2           4             1             0   \n",
       "3 -0.190060         7         2           4             0             0   \n",
       "4 -0.894758         7         2           4             1             0   \n",
       "\n",
       "   WEIGHT_DIFFERENCE  CPTLABEL  \n",
       "0          -0.143388         1  \n",
       "1           0.999967         1  \n",
       "2          -0.791788         2  \n",
       "3          -0.590118         2  \n",
       "4           1.015480         1  "
      ]
     },
     "execution_count": 7,
     "metadata": {},
     "output_type": "execute_result"
    }
   ],
   "source": [
    "data = pd.concat([train, test], axis=0)\n",
    "data.head()"
   ]
  },
  {
   "cell_type": "code",
   "execution_count": 8,
   "metadata": {},
   "outputs": [],
   "source": [
    "# data.shape"
   ]
  },
  {
   "cell_type": "code",
   "execution_count": 9,
   "metadata": {},
   "outputs": [],
   "source": [
    "# data.to_csv('../data/lucky_13.csv')"
   ]
  },
  {
   "cell_type": "code",
   "execution_count": 10,
   "metadata": {},
   "outputs": [],
   "source": [
    "# data = pd.read_csv('/home/loganlog/Documents/mbsaqip_bleed/data/lucky_13.csv', index_col=1)"
   ]
  },
  {
   "cell_type": "code",
   "execution_count": 11,
   "metadata": {},
   "outputs": [],
   "source": [
    "# %%\n",
    "# drop = ['GITRACTBLEED']\n",
    "# y = train['GITRACTBLEED']\n",
    "# X = train.drop(drop, axis=1)\n",
    "# y_test = test['GITRACTBLEED']\n",
    "# X_test = test.drop(drop, axis=1)\n",
    "# X_train, X_test, y_train, y_test = train_test_split(X, y, train_size=0.8, stratify=y, random_state=13)"
   ]
  },
  {
   "cell_type": "code",
   "execution_count": 12,
   "metadata": {},
   "outputs": [
    {
     "data": {
      "text/plain": [
       "(159959, 46)"
      ]
     },
     "execution_count": 12,
     "metadata": {},
     "output_type": "execute_result"
    }
   ],
   "source": [
    "data.shape"
   ]
  },
  {
   "cell_type": "code",
   "execution_count": 13,
   "metadata": {},
   "outputs": [],
   "source": [
    "drop = ['GITRACTBLEED']\n",
    "y = data['GITRACTBLEED']\n",
    "X = data.drop(drop, axis=1)\n",
    "X_train, X_test, y_train, y_test = train_test_split(X, y, train_size=0.8, stratify=y, random_state=13)"
   ]
  },
  {
   "cell_type": "code",
   "execution_count": 14,
   "metadata": {},
   "outputs": [
    {
     "data": {
      "text/plain": [
       "(127967, 45)"
      ]
     },
     "execution_count": 14,
     "metadata": {},
     "output_type": "execute_result"
    }
   ],
   "source": [
    "X_train.shape"
   ]
  },
  {
   "cell_type": "code",
   "execution_count": 15,
   "metadata": {},
   "outputs": [
    {
     "data": {
      "text/plain": [
       "(31992, 45)"
      ]
     },
     "execution_count": 15,
     "metadata": {},
     "output_type": "execute_result"
    }
   ],
   "source": [
    "X_test.shape"
   ]
  },
  {
   "cell_type": "code",
   "execution_count": 16,
   "metadata": {},
   "outputs": [
    {
     "data": {
      "text/plain": [
       "0.2000012503203946"
      ]
     },
     "execution_count": 16,
     "metadata": {},
     "output_type": "execute_result"
    }
   ],
   "source": [
    "X_test.shape[0] / X.shape[0]"
   ]
  },
  {
   "cell_type": "code",
   "execution_count": 17,
   "metadata": {},
   "outputs": [
    {
     "data": {
      "text/plain": [
       "0    127461\n",
       "1       506\n",
       "Name: GITRACTBLEED, dtype: int64"
      ]
     },
     "execution_count": 17,
     "metadata": {},
     "output_type": "execute_result"
    }
   ],
   "source": [
    "# %%\n",
    "y_train.value_counts()"
   ]
  },
  {
   "cell_type": "code",
   "execution_count": 18,
   "metadata": {},
   "outputs": [
    {
     "data": {
      "text/plain": [
       "0    0.996049\n",
       "1    0.003951\n",
       "Name: GITRACTBLEED, dtype: float64"
      ]
     },
     "execution_count": 18,
     "metadata": {},
     "output_type": "execute_result"
    }
   ],
   "source": [
    "# %%\n",
    "y.value_counts(normalize=True)"
   ]
  },
  {
   "cell_type": "code",
   "execution_count": 19,
   "metadata": {},
   "outputs": [
    {
     "data": {
      "text/plain": [
       "0    31866\n",
       "1      126\n",
       "Name: GITRACTBLEED, dtype: int64"
      ]
     },
     "execution_count": 19,
     "metadata": {},
     "output_type": "execute_result"
    }
   ],
   "source": [
    "# %%\n",
    "y_test.value_counts()"
   ]
  },
  {
   "cell_type": "code",
   "execution_count": 20,
   "metadata": {},
   "outputs": [
    {
     "data": {
      "text/html": [
       "<div>\n",
       "<style scoped>\n",
       "    .dataframe tbody tr th:only-of-type {\n",
       "        vertical-align: middle;\n",
       "    }\n",
       "\n",
       "    .dataframe tbody tr th {\n",
       "        vertical-align: top;\n",
       "    }\n",
       "\n",
       "    .dataframe thead th {\n",
       "        text-align: right;\n",
       "    }\n",
       "</style>\n",
       "<table border=\"1\" class=\"dataframe\">\n",
       "  <thead>\n",
       "    <tr style=\"text-align: right;\">\n",
       "      <th></th>\n",
       "      <th>SEX</th>\n",
       "      <th>AGE</th>\n",
       "      <th>CPT</th>\n",
       "      <th>GERD</th>\n",
       "      <th>MOBILITY_DEVICE</th>\n",
       "      <th>MI_ALL_HISTORY</th>\n",
       "      <th>PTC</th>\n",
       "      <th>PCARD</th>\n",
       "      <th>HIP</th>\n",
       "      <th>HYPERLIPIDEMIA</th>\n",
       "      <th>WGT_HIGH_BAR</th>\n",
       "      <th>WGT_CLOSEST</th>\n",
       "      <th>BMI</th>\n",
       "      <th>BMI_HIGH_BAR</th>\n",
       "      <th>HISTORY_DVT</th>\n",
       "      <th>VENOUS_STASIS</th>\n",
       "      <th>DIALYSIS</th>\n",
       "      <th>RENAL_INSUFFICIENCY</th>\n",
       "      <th>THERAPEUTIC_ANTICOAGULATION</th>\n",
       "      <th>PREVIOUS_SURGERY</th>\n",
       "      <th>DIABETES</th>\n",
       "      <th>SMOKER</th>\n",
       "      <th>FUNSTATPRESURG</th>\n",
       "      <th>COPD</th>\n",
       "      <th>OXYGEN_DEPENDENT</th>\n",
       "      <th>HISTORY_PE</th>\n",
       "      <th>SLEEP_APNEA</th>\n",
       "      <th>CHRONIC_STEROIDS</th>\n",
       "      <th>IVC_FILTER</th>\n",
       "      <th>IVC_TIMING</th>\n",
       "      <th>ALBUMIN</th>\n",
       "      <th>HCT</th>\n",
       "      <th>SURGICAL_APPROACH</th>\n",
       "      <th>ASACLASS</th>\n",
       "      <th>DTOP</th>\n",
       "      <th>OPYEAR</th>\n",
       "      <th>SURGSPECIALTY_BAR</th>\n",
       "      <th>CREATININE</th>\n",
       "      <th>HEMO</th>\n",
       "      <th>RACE_PUF</th>\n",
       "      <th>HISPANIC</th>\n",
       "      <th>NBHTN_MEDS</th>\n",
       "      <th>ROBOTIC_ASST</th>\n",
       "      <th>WEIGHT_DIFFERENCE</th>\n",
       "      <th>CPTLABEL</th>\n",
       "    </tr>\n",
       "  </thead>\n",
       "  <tbody>\n",
       "    <tr>\n",
       "      <th>0</th>\n",
       "      <td>0</td>\n",
       "      <td>0.927530</td>\n",
       "      <td>0</td>\n",
       "      <td>0</td>\n",
       "      <td>0</td>\n",
       "      <td>0</td>\n",
       "      <td>0</td>\n",
       "      <td>0</td>\n",
       "      <td>1</td>\n",
       "      <td>0</td>\n",
       "      <td>-0.596203</td>\n",
       "      <td>-0.596278</td>\n",
       "      <td>-0.784649</td>\n",
       "      <td>-0.784679</td>\n",
       "      <td>0</td>\n",
       "      <td>0</td>\n",
       "      <td>0</td>\n",
       "      <td>0</td>\n",
       "      <td>0</td>\n",
       "      <td>0</td>\n",
       "      <td>0</td>\n",
       "      <td>0</td>\n",
       "      <td>0</td>\n",
       "      <td>0</td>\n",
       "      <td>0</td>\n",
       "      <td>0</td>\n",
       "      <td>0</td>\n",
       "      <td>0</td>\n",
       "      <td>0</td>\n",
       "      <td>3</td>\n",
       "      <td>-0.070922</td>\n",
       "      <td>0.534472</td>\n",
       "      <td>0</td>\n",
       "      <td>2</td>\n",
       "      <td>0</td>\n",
       "      <td>2020</td>\n",
       "      <td>3</td>\n",
       "      <td>-0.102827</td>\n",
       "      <td>-0.190060</td>\n",
       "      <td>7</td>\n",
       "      <td>0</td>\n",
       "      <td>2</td>\n",
       "      <td>0</td>\n",
       "      <td>-0.143388</td>\n",
       "      <td>1</td>\n",
       "    </tr>\n",
       "    <tr>\n",
       "      <th>1</th>\n",
       "      <td>0</td>\n",
       "      <td>-0.422138</td>\n",
       "      <td>0</td>\n",
       "      <td>0</td>\n",
       "      <td>0</td>\n",
       "      <td>0</td>\n",
       "      <td>0</td>\n",
       "      <td>0</td>\n",
       "      <td>0</td>\n",
       "      <td>0</td>\n",
       "      <td>1.392301</td>\n",
       "      <td>1.248903</td>\n",
       "      <td>1.215124</td>\n",
       "      <td>1.385497</td>\n",
       "      <td>0</td>\n",
       "      <td>0</td>\n",
       "      <td>0</td>\n",
       "      <td>0</td>\n",
       "      <td>0</td>\n",
       "      <td>0</td>\n",
       "      <td>0</td>\n",
       "      <td>0</td>\n",
       "      <td>0</td>\n",
       "      <td>0</td>\n",
       "      <td>0</td>\n",
       "      <td>0</td>\n",
       "      <td>0</td>\n",
       "      <td>0</td>\n",
       "      <td>0</td>\n",
       "      <td>3</td>\n",
       "      <td>-0.348976</td>\n",
       "      <td>-0.994028</td>\n",
       "      <td>0</td>\n",
       "      <td>2</td>\n",
       "      <td>0</td>\n",
       "      <td>2020</td>\n",
       "      <td>3</td>\n",
       "      <td>-0.384051</td>\n",
       "      <td>-0.542409</td>\n",
       "      <td>7</td>\n",
       "      <td>0</td>\n",
       "      <td>4</td>\n",
       "      <td>0</td>\n",
       "      <td>0.999967</td>\n",
       "      <td>1</td>\n",
       "    </tr>\n",
       "    <tr>\n",
       "      <th>2</th>\n",
       "      <td>0</td>\n",
       "      <td>-0.928264</td>\n",
       "      <td>2</td>\n",
       "      <td>0</td>\n",
       "      <td>0</td>\n",
       "      <td>0</td>\n",
       "      <td>0</td>\n",
       "      <td>0</td>\n",
       "      <td>0</td>\n",
       "      <td>0</td>\n",
       "      <td>-0.245184</td>\n",
       "      <td>-0.080993</td>\n",
       "      <td>0.011676</td>\n",
       "      <td>-0.192702</td>\n",
       "      <td>0</td>\n",
       "      <td>0</td>\n",
       "      <td>0</td>\n",
       "      <td>0</td>\n",
       "      <td>0</td>\n",
       "      <td>0</td>\n",
       "      <td>0</td>\n",
       "      <td>0</td>\n",
       "      <td>0</td>\n",
       "      <td>0</td>\n",
       "      <td>0</td>\n",
       "      <td>0</td>\n",
       "      <td>1</td>\n",
       "      <td>0</td>\n",
       "      <td>0</td>\n",
       "      <td>3</td>\n",
       "      <td>1.875454</td>\n",
       "      <td>-0.270002</td>\n",
       "      <td>0</td>\n",
       "      <td>1</td>\n",
       "      <td>0</td>\n",
       "      <td>2020</td>\n",
       "      <td>3</td>\n",
       "      <td>-0.046582</td>\n",
       "      <td>-0.278147</td>\n",
       "      <td>5</td>\n",
       "      <td>2</td>\n",
       "      <td>4</td>\n",
       "      <td>1</td>\n",
       "      <td>-0.791788</td>\n",
       "      <td>2</td>\n",
       "    </tr>\n",
       "    <tr>\n",
       "      <th>3</th>\n",
       "      <td>0</td>\n",
       "      <td>-0.084721</td>\n",
       "      <td>2</td>\n",
       "      <td>0</td>\n",
       "      <td>0</td>\n",
       "      <td>0</td>\n",
       "      <td>0</td>\n",
       "      <td>0</td>\n",
       "      <td>0</td>\n",
       "      <td>0</td>\n",
       "      <td>-1.162175</td>\n",
       "      <td>-1.094411</td>\n",
       "      <td>-0.625896</td>\n",
       "      <td>-0.734943</td>\n",
       "      <td>0</td>\n",
       "      <td>0</td>\n",
       "      <td>0</td>\n",
       "      <td>0</td>\n",
       "      <td>0</td>\n",
       "      <td>0</td>\n",
       "      <td>0</td>\n",
       "      <td>0</td>\n",
       "      <td>0</td>\n",
       "      <td>0</td>\n",
       "      <td>0</td>\n",
       "      <td>0</td>\n",
       "      <td>0</td>\n",
       "      <td>0</td>\n",
       "      <td>0</td>\n",
       "      <td>3</td>\n",
       "      <td>-1.183137</td>\n",
       "      <td>0.668551</td>\n",
       "      <td>0</td>\n",
       "      <td>1</td>\n",
       "      <td>0</td>\n",
       "      <td>2020</td>\n",
       "      <td>3</td>\n",
       "      <td>-0.402799</td>\n",
       "      <td>-0.190060</td>\n",
       "      <td>7</td>\n",
       "      <td>2</td>\n",
       "      <td>4</td>\n",
       "      <td>0</td>\n",
       "      <td>-0.590118</td>\n",
       "      <td>2</td>\n",
       "    </tr>\n",
       "    <tr>\n",
       "      <th>4</th>\n",
       "      <td>0</td>\n",
       "      <td>-0.843910</td>\n",
       "      <td>0</td>\n",
       "      <td>1</td>\n",
       "      <td>0</td>\n",
       "      <td>0</td>\n",
       "      <td>0</td>\n",
       "      <td>0</td>\n",
       "      <td>0</td>\n",
       "      <td>0</td>\n",
       "      <td>-0.024123</td>\n",
       "      <td>-0.250472</td>\n",
       "      <td>0.217798</td>\n",
       "      <td>0.508450</td>\n",
       "      <td>0</td>\n",
       "      <td>0</td>\n",
       "      <td>0</td>\n",
       "      <td>0</td>\n",
       "      <td>0</td>\n",
       "      <td>1</td>\n",
       "      <td>0</td>\n",
       "      <td>0</td>\n",
       "      <td>0</td>\n",
       "      <td>0</td>\n",
       "      <td>0</td>\n",
       "      <td>0</td>\n",
       "      <td>0</td>\n",
       "      <td>1</td>\n",
       "      <td>0</td>\n",
       "      <td>3</td>\n",
       "      <td>-1.183137</td>\n",
       "      <td>-0.564975</td>\n",
       "      <td>0</td>\n",
       "      <td>2</td>\n",
       "      <td>0</td>\n",
       "      <td>2020</td>\n",
       "      <td>3</td>\n",
       "      <td>0.515865</td>\n",
       "      <td>-0.894758</td>\n",
       "      <td>7</td>\n",
       "      <td>2</td>\n",
       "      <td>4</td>\n",
       "      <td>1</td>\n",
       "      <td>1.015480</td>\n",
       "      <td>1</td>\n",
       "    </tr>\n",
       "  </tbody>\n",
       "</table>\n",
       "</div>"
      ],
      "text/plain": [
       "   SEX       AGE  CPT  GERD  MOBILITY_DEVICE  MI_ALL_HISTORY  PTC  PCARD  HIP  \\\n",
       "0    0  0.927530    0     0                0               0    0      0    1   \n",
       "1    0 -0.422138    0     0                0               0    0      0    0   \n",
       "2    0 -0.928264    2     0                0               0    0      0    0   \n",
       "3    0 -0.084721    2     0                0               0    0      0    0   \n",
       "4    0 -0.843910    0     1                0               0    0      0    0   \n",
       "\n",
       "   HYPERLIPIDEMIA  WGT_HIGH_BAR  WGT_CLOSEST       BMI  BMI_HIGH_BAR  \\\n",
       "0               0     -0.596203    -0.596278 -0.784649     -0.784679   \n",
       "1               0      1.392301     1.248903  1.215124      1.385497   \n",
       "2               0     -0.245184    -0.080993  0.011676     -0.192702   \n",
       "3               0     -1.162175    -1.094411 -0.625896     -0.734943   \n",
       "4               0     -0.024123    -0.250472  0.217798      0.508450   \n",
       "\n",
       "   HISTORY_DVT  VENOUS_STASIS  DIALYSIS  RENAL_INSUFFICIENCY  \\\n",
       "0            0              0         0                    0   \n",
       "1            0              0         0                    0   \n",
       "2            0              0         0                    0   \n",
       "3            0              0         0                    0   \n",
       "4            0              0         0                    0   \n",
       "\n",
       "   THERAPEUTIC_ANTICOAGULATION  PREVIOUS_SURGERY  DIABETES  SMOKER  \\\n",
       "0                            0                 0         0       0   \n",
       "1                            0                 0         0       0   \n",
       "2                            0                 0         0       0   \n",
       "3                            0                 0         0       0   \n",
       "4                            0                 1         0       0   \n",
       "\n",
       "   FUNSTATPRESURG  COPD  OXYGEN_DEPENDENT  HISTORY_PE  SLEEP_APNEA  \\\n",
       "0               0     0                 0           0            0   \n",
       "1               0     0                 0           0            0   \n",
       "2               0     0                 0           0            1   \n",
       "3               0     0                 0           0            0   \n",
       "4               0     0                 0           0            0   \n",
       "\n",
       "   CHRONIC_STEROIDS  IVC_FILTER  IVC_TIMING   ALBUMIN       HCT  \\\n",
       "0                 0           0           3 -0.070922  0.534472   \n",
       "1                 0           0           3 -0.348976 -0.994028   \n",
       "2                 0           0           3  1.875454 -0.270002   \n",
       "3                 0           0           3 -1.183137  0.668551   \n",
       "4                 1           0           3 -1.183137 -0.564975   \n",
       "\n",
       "   SURGICAL_APPROACH  ASACLASS  DTOP  OPYEAR  SURGSPECIALTY_BAR  CREATININE  \\\n",
       "0                  0         2     0    2020                  3   -0.102827   \n",
       "1                  0         2     0    2020                  3   -0.384051   \n",
       "2                  0         1     0    2020                  3   -0.046582   \n",
       "3                  0         1     0    2020                  3   -0.402799   \n",
       "4                  0         2     0    2020                  3    0.515865   \n",
       "\n",
       "       HEMO  RACE_PUF  HISPANIC  NBHTN_MEDS  ROBOTIC_ASST  WEIGHT_DIFFERENCE  \\\n",
       "0 -0.190060         7         0           2             0          -0.143388   \n",
       "1 -0.542409         7         0           4             0           0.999967   \n",
       "2 -0.278147         5         2           4             1          -0.791788   \n",
       "3 -0.190060         7         2           4             0          -0.590118   \n",
       "4 -0.894758         7         2           4             1           1.015480   \n",
       "\n",
       "   CPTLABEL  \n",
       "0         1  \n",
       "1         1  \n",
       "2         2  \n",
       "3         2  \n",
       "4         1  "
      ]
     },
     "execution_count": 20,
     "metadata": {},
     "output_type": "execute_result"
    }
   ],
   "source": [
    "# %%\n",
    "X.head()"
   ]
  },
  {
   "cell_type": "code",
   "execution_count": 21,
   "metadata": {},
   "outputs": [
    {
     "data": {
      "text/plain": [
       "(159959, 45)"
      ]
     },
     "execution_count": 21,
     "metadata": {},
     "output_type": "execute_result"
    }
   ],
   "source": [
    "X.shape"
   ]
  },
  {
   "cell_type": "code",
   "execution_count": 22,
   "metadata": {},
   "outputs": [
    {
     "data": {
      "text/plain": [
       "0    0\n",
       "1    0\n",
       "2    0\n",
       "3    0\n",
       "4    0\n",
       "Name: GITRACTBLEED, dtype: int64"
      ]
     },
     "execution_count": 22,
     "metadata": {},
     "output_type": "execute_result"
    }
   ],
   "source": [
    "y.head()"
   ]
  },
  {
   "cell_type": "code",
   "execution_count": 23,
   "metadata": {},
   "outputs": [
    {
     "data": {
      "text/plain": [
       "(159959,)"
      ]
     },
     "execution_count": 23,
     "metadata": {},
     "output_type": "execute_result"
    }
   ],
   "source": [
    "y.shape"
   ]
  },
  {
   "cell_type": "code",
   "execution_count": 24,
   "metadata": {},
   "outputs": [],
   "source": [
    "# %%\n",
    "# X_train, X_val, y_train, y_val = train_test_split(X, y, test_size=0.2, random_state=2)"
   ]
  },
  {
   "cell_type": "code",
   "execution_count": 25,
   "metadata": {},
   "outputs": [],
   "source": [
    "# %%\n",
    "# cv = StratifiedKFold(n_splits=5, shuffle=True, random_state=2)"
   ]
  },
  {
   "cell_type": "code",
   "execution_count": 26,
   "metadata": {},
   "outputs": [
    {
     "name": "stderr",
     "output_type": "stream",
     "text": [
      "2022-09-21 20:26:36.434460: W tensorflow/stream_executor/platform/default/dso_loader.cc:64] Could not load dynamic library 'libcuda.so.1'; dlerror: libcuda.so.1: cannot open shared object file: No such file or directory; LD_LIBRARY_PATH: /nas/longleaf/apps/julia/1.6.3/lib:/nas/longleaf/apps/cuda/11.4/lib64:/nas/longleaf/apps/cuda/11.4/extras/CUPTI/lib64:/nas/longleaf/rhel8/apps/gcc/9.1.0/lib:/nas/longleaf/rhel8/apps/gcc/9.1.0/lib64\n",
      "2022-09-21 20:26:36.434485: W tensorflow/stream_executor/cuda/cuda_driver.cc:269] failed call to cuInit: UNKNOWN ERROR (303)\n",
      "2022-09-21 20:26:36.434502: I tensorflow/stream_executor/cuda/cuda_diagnostics.cc:156] kernel driver does not appear to be running on this host (c1416ood04.ll.unc.edu): /proc/driver/nvidia/version does not exist\n",
      "2022-09-21 20:26:36.434676: I tensorflow/core/platform/cpu_feature_guard.cc:193] This TensorFlow binary is optimized with oneAPI Deep Neural Network Library (oneDNN) to use the following CPU instructions in performance-critical operations:  AVX2 FMA\n",
      "To enable them in other operations, rebuild TensorFlow with the appropriate compiler flags.\n"
     ]
    }
   ],
   "source": [
    "# %%\n",
    "rf = RandomForestClassifier(n_estimators=1500, max_depth=20, max_features='sqrt', min_samples_leaf=8, min_samples_split=3, bootstrap=True, n_jobs=-1, random_state=0)\n",
    "xgb = XGBClassifier(n_estimators=100, max_depth=20, colsample_bytree=0.8, learning_rate=0.05, min_child_weight=4, subsample=1, random_state=0)\n",
    "# xgb = XGBClassifier(n_estimators=100, max_depth=20, colsample_bytree=0.8, learning_rate=0.05, min_child_weight=4, subsample=1, tree_method='gpu_hist', random_state=0)\n",
    "lr = LogisticRegression(penalty='none', random_state=0, max_iter=9999)\n",
    "\n",
    "input_shape = X.shape[1:]\n",
    "def build_model(n_hidden=3, n_neurons=1500, dropout=0.6, learning_rate=0.00003):\n",
    "    model = keras.models.Sequential()\n",
    "    model.add(keras.layers.Flatten(input_shape=input_shape))\n",
    "    model.add(keras.layers.BatchNormalization())\n",
    "    for layer in range(n_hidden):\n",
    "        model.add(keras.layers.Dense(n_neurons))\n",
    "        model.add(keras.layers.BatchNormalization())\n",
    "        model.add(keras.layers.Dropout(dropout))\n",
    "        model.add(keras.layers.Activation(\"relu\"))\n",
    "    model.add(keras.layers.Dense(1, activation=\"sigmoid\"))\n",
    "\n",
    "    optimizer = keras.optimizers.Adam(learning_rate=learning_rate)\n",
    "    \n",
    "    model.compile(loss=keras.losses.BinaryCrossentropy(), metrics=['AUC'], optimizer=optimizer)\n",
    "    return model\n",
    "nn = build_model()\n"
   ]
  },
  {
   "cell_type": "code",
   "execution_count": 27,
   "metadata": {},
   "outputs": [],
   "source": [
    "# %%\n",
    "#calculate 95% confidence interval for auroc and auprc for each model (def = define function)\n",
    "def auroc_ci(y_true, y_pred):\n",
    "    fpr, tpr, _ = roc_curve(y_true, y_pred)\n",
    "    roc_auc = auc(fpr, tpr)\n",
    "    mean = roc_auc\n",
    "    std = sqrt(roc_auc * (1.0 - roc_auc) / len(y_true))\n",
    "    low  = mean - std\n",
    "    high = mean + std\n",
    "    return low, mean, high\n",
    "#calculate auprc 95% ci for each model\n",
    "def auprc_ci(y_true, y_pred):\n",
    "    precision, recall, _ = precision_recall_curve(y_true, y_pred)\n",
    "    pr_auc = auc(recall, precision)\n",
    "    mean = pr_auc\n",
    "    std = sqrt(pr_auc * (1.0 - pr_auc) / len(y_true))\n",
    "    low  = mean - std\n",
    "    high = mean + std\n",
    "    return low, mean, high\n",
    "def fit_predict(model, X_train, y_train, X_test):\n",
    "    model.fit(X_train, y_train)\n",
    "    y_pred_proba = model.predict_proba(X_test)[:, 1]\n",
    "    return y_pred_proba"
   ]
  },
  {
   "cell_type": "code",
   "execution_count": 28,
   "metadata": {},
   "outputs": [],
   "source": [
    "# %%\n",
    "# New\n",
    "# cross_val_score(rf, X, y, scoring='roc_auc', cv=5)\n",
    "\n",
    "# scores = cross_val_score(xgb, X, y, scoring='roc_auc', cv=5)\n",
    "# import numpy as np\n",
    "# np.mean(scores)"
   ]
  },
  {
   "cell_type": "code",
   "execution_count": 29,
   "metadata": {},
   "outputs": [],
   "source": [
    "# %%\n",
    "# rf_y_pred = fit_predict(rf, X, y, X_test)\n",
    "# xgb_y_pred = fit_predict(xgb, X, y, X_test)\n",
    "# lr_y_pred = fit_predict(lr, X, y, X_test)"
   ]
  },
  {
   "cell_type": "code",
   "execution_count": 30,
   "metadata": {},
   "outputs": [],
   "source": [
    "# %%\n",
    "rf_y_pred = fit_predict(rf, X_train, y_train, X_test)\n",
    "xgb_y_pred = fit_predict(xgb, X_train, y_train, X_test)\n",
    "lr_y_pred = fit_predict(lr, X_train, y_train, X_test)"
   ]
  },
  {
   "cell_type": "code",
   "execution_count": 31,
   "metadata": {},
   "outputs": [
    {
     "name": "stdout",
     "output_type": "stream",
     "text": [
      "Epoch 1/500\n",
      "250/250 [==============================] - 45s 175ms/step - loss: 0.3114 - auc: 0.4653 - val_loss: 46.0768 - val_auc: 0.5000\n",
      "Epoch 2/500\n",
      "250/250 [==============================] - 43s 174ms/step - loss: 0.0732 - auc: 0.4492 - val_loss: 21.0792 - val_auc: 0.5000\n",
      "Epoch 3/500\n",
      "250/250 [==============================] - 44s 174ms/step - loss: 0.0436 - auc: 0.4803 - val_loss: 1.0308 - val_auc: 0.5216\n",
      "Epoch 4/500\n",
      "250/250 [==============================] - 43s 174ms/step - loss: 0.0364 - auc: 0.4902 - val_loss: 0.0939 - val_auc: 0.6776\n",
      "Epoch 5/500\n",
      "250/250 [==============================] - 43s 174ms/step - loss: 0.0325 - auc: 0.5023 - val_loss: 0.0936 - val_auc: 0.6781\n",
      "Epoch 6/500\n",
      "250/250 [==============================] - 43s 174ms/step - loss: 0.0315 - auc: 0.5370 - val_loss: 0.0773 - val_auc: 0.6833\n",
      "Epoch 7/500\n",
      "250/250 [==============================] - 43s 174ms/step - loss: 0.0303 - auc: 0.5448 - val_loss: 0.0705 - val_auc: 0.6879\n",
      "Epoch 8/500\n",
      "250/250 [==============================] - 43s 174ms/step - loss: 0.0301 - auc: 0.5051 - val_loss: 0.0632 - val_auc: 0.6923\n",
      "Epoch 9/500\n",
      "250/250 [==============================] - 43s 174ms/step - loss: 0.0296 - auc: 0.5347 - val_loss: 0.0598 - val_auc: 0.6924\n",
      "Epoch 10/500\n",
      "250/250 [==============================] - 43s 174ms/step - loss: 0.0290 - auc: 0.5599 - val_loss: 0.0565 - val_auc: 0.6940\n",
      "Epoch 11/500\n",
      "250/250 [==============================] - 44s 174ms/step - loss: 0.0288 - auc: 0.5545 - val_loss: 0.0629 - val_auc: 0.6964\n",
      "Epoch 12/500\n",
      "250/250 [==============================] - 43s 174ms/step - loss: 0.0290 - auc: 0.5656 - val_loss: 0.0630 - val_auc: 0.6959\n",
      "Epoch 13/500\n",
      "250/250 [==============================] - 43s 174ms/step - loss: 0.0286 - auc: 0.5628 - val_loss: 0.0584 - val_auc: 0.6907\n",
      "Epoch 14/500\n",
      "250/250 [==============================] - 44s 174ms/step - loss: 0.0287 - auc: 0.5588 - val_loss: 0.0502 - val_auc: 0.6944\n",
      "Epoch 15/500\n",
      "250/250 [==============================] - 43s 174ms/step - loss: 0.0284 - auc: 0.5821 - val_loss: 0.0484 - val_auc: 0.6933\n",
      "Epoch 16/500\n",
      "250/250 [==============================] - 44s 175ms/step - loss: 0.0281 - auc: 0.5701 - val_loss: 0.0501 - val_auc: 0.6912\n",
      "Epoch 17/500\n",
      "250/250 [==============================] - 44s 174ms/step - loss: 0.0283 - auc: 0.5642 - val_loss: 0.0540 - val_auc: 0.6932\n",
      "Epoch 18/500\n",
      "250/250 [==============================] - 43s 174ms/step - loss: 0.0278 - auc: 0.5705 - val_loss: 0.0454 - val_auc: 0.6917\n",
      "Epoch 19/500\n",
      "250/250 [==============================] - 43s 174ms/step - loss: 0.0282 - auc: 0.5755 - val_loss: 0.0548 - val_auc: 0.6911\n",
      "Epoch 20/500\n",
      "250/250 [==============================] - 43s 174ms/step - loss: 0.0279 - auc: 0.5785 - val_loss: 0.0470 - val_auc: 0.6933\n",
      "Epoch 21/500\n",
      "250/250 [==============================] - 43s 174ms/step - loss: 0.0276 - auc: 0.6031 - val_loss: 0.0463 - val_auc: 0.6951\n",
      "Epoch 22/500\n",
      "250/250 [==============================] - 43s 174ms/step - loss: 0.0272 - auc: 0.5935 - val_loss: 0.0504 - val_auc: 0.6905\n",
      "Epoch 23/500\n",
      "250/250 [==============================] - 43s 174ms/step - loss: 0.0279 - auc: 0.5725 - val_loss: 0.0476 - val_auc: 0.6944\n",
      "Epoch 24/500\n",
      "250/250 [==============================] - 43s 174ms/step - loss: 0.0273 - auc: 0.5959 - val_loss: 0.0523 - val_auc: 0.6903\n",
      "Epoch 25/500\n",
      "250/250 [==============================] - 43s 174ms/step - loss: 0.0274 - auc: 0.6007 - val_loss: 0.0566 - val_auc: 0.6938\n",
      "Epoch 26/500\n",
      "250/250 [==============================] - 43s 174ms/step - loss: 0.0271 - auc: 0.6041 - val_loss: 0.0444 - val_auc: 0.6981\n",
      "Epoch 27/500\n",
      "250/250 [==============================] - 43s 174ms/step - loss: 0.0273 - auc: 0.5829 - val_loss: 0.0437 - val_auc: 0.6945\n",
      "Epoch 28/500\n",
      "250/250 [==============================] - 43s 174ms/step - loss: 0.0274 - auc: 0.5838 - val_loss: 0.0534 - val_auc: 0.6949\n",
      "Epoch 29/500\n",
      "250/250 [==============================] - 43s 174ms/step - loss: 0.0273 - auc: 0.6129 - val_loss: 0.0527 - val_auc: 0.6934\n",
      "Epoch 30/500\n",
      "250/250 [==============================] - 43s 173ms/step - loss: 0.0272 - auc: 0.6036 - val_loss: 0.0416 - val_auc: 0.6894\n",
      "Epoch 31/500\n",
      "250/250 [==============================] - 43s 174ms/step - loss: 0.0263 - auc: 0.6355 - val_loss: 0.0492 - val_auc: 0.7062\n",
      "Epoch 32/500\n",
      "250/250 [==============================] - 43s 174ms/step - loss: 0.0264 - auc: 0.6257 - val_loss: 0.0455 - val_auc: 0.7040\n",
      "Epoch 33/500\n",
      "250/250 [==============================] - 43s 174ms/step - loss: 0.0264 - auc: 0.6023 - val_loss: 0.0526 - val_auc: 0.7031\n",
      "Epoch 34/500\n",
      "250/250 [==============================] - 43s 173ms/step - loss: 0.0266 - auc: 0.6153 - val_loss: 0.0445 - val_auc: 0.6966\n",
      "Epoch 35/500\n",
      "250/250 [==============================] - 43s 174ms/step - loss: 0.0268 - auc: 0.6124 - val_loss: 0.0464 - val_auc: 0.7045\n",
      "Epoch 36/500\n",
      "250/250 [==============================] - 43s 173ms/step - loss: 0.0264 - auc: 0.6139 - val_loss: 0.0476 - val_auc: 0.7021\n",
      "Epoch 37/500\n",
      "250/250 [==============================] - 43s 173ms/step - loss: 0.0259 - auc: 0.6320 - val_loss: 0.0533 - val_auc: 0.7045\n",
      "Epoch 38/500\n",
      "250/250 [==============================] - 43s 174ms/step - loss: 0.0260 - auc: 0.6206 - val_loss: 0.0539 - val_auc: 0.7023\n",
      "Epoch 39/500\n",
      "250/250 [==============================] - 43s 174ms/step - loss: 0.0259 - auc: 0.6462 - val_loss: 0.0536 - val_auc: 0.7021\n",
      "Epoch 40/500\n",
      "250/250 [==============================] - 44s 174ms/step - loss: 0.0258 - auc: 0.6510 - val_loss: 0.0445 - val_auc: 0.6997\n",
      "Epoch 41/500\n",
      "250/250 [==============================] - 43s 174ms/step - loss: 0.0264 - auc: 0.6208 - val_loss: 0.0472 - val_auc: 0.7037\n",
      "Epoch 42/500\n",
      "250/250 [==============================] - 43s 174ms/step - loss: 0.0259 - auc: 0.6361 - val_loss: 0.0486 - val_auc: 0.7074\n",
      "Epoch 43/500\n",
      "250/250 [==============================] - 43s 174ms/step - loss: 0.0259 - auc: 0.6332 - val_loss: 0.0491 - val_auc: 0.7055\n",
      "Epoch 44/500\n",
      "250/250 [==============================] - 43s 174ms/step - loss: 0.0261 - auc: 0.6255 - val_loss: 0.0523 - val_auc: 0.7044\n",
      "Epoch 45/500\n",
      "250/250 [==============================] - 43s 174ms/step - loss: 0.0255 - auc: 0.6517 - val_loss: 0.0483 - val_auc: 0.7096\n"
     ]
    }
   ],
   "source": [
    "# %%\n",
    "history = nn.fit(X_train, y_train,\n",
    "                batch_size=512, epochs=500,\n",
    "                validation_data=(X_test, y_test),\n",
    "                callbacks=[keras.callbacks.EarlyStopping(monitor='val_loss', patience=15, restore_best_weights=True)])"
   ]
  },
  {
   "cell_type": "code",
   "execution_count": 32,
   "metadata": {},
   "outputs": [
    {
     "data": {
      "text/plain": [
       "(0.7324615557392021, 0.7349292025435878, 0.7373968493479736)"
      ]
     },
     "execution_count": 32,
     "metadata": {},
     "output_type": "execute_result"
    }
   ],
   "source": [
    "# %%\n",
    "# New\n",
    "\n",
    "auroc_ci(y_test, xgb_y_pred)"
   ]
  },
  {
   "cell_type": "code",
   "execution_count": 33,
   "metadata": {},
   "outputs": [
    {
     "data": {
      "text/plain": [
       "(0.7501294875906259, 0.7525421432406935, 0.754954798890761)"
      ]
     },
     "execution_count": 33,
     "metadata": {},
     "output_type": "execute_result"
    }
   ],
   "source": [
    "# %%\n",
    "# New\n",
    "\n",
    "auroc_ci(y_test, rf_y_pred)\n"
   ]
  },
  {
   "cell_type": "code",
   "execution_count": 34,
   "metadata": {},
   "outputs": [
    {
     "data": {
      "text/plain": [
       "(0.6901390240187665, 0.6927184669135337, 0.6952979098083009)"
      ]
     },
     "execution_count": 34,
     "metadata": {},
     "output_type": "execute_result"
    }
   ],
   "source": [
    "# %%\n",
    "# New\n",
    "\n",
    "auroc_ci(y_test, lr_y_pred)"
   ]
  },
  {
   "cell_type": "code",
   "execution_count": 35,
   "metadata": {},
   "outputs": [
    {
     "data": {
      "text/plain": [
       "(127967, 45)"
      ]
     },
     "execution_count": 35,
     "metadata": {},
     "output_type": "execute_result"
    }
   ],
   "source": [
    "X_train.shape"
   ]
  },
  {
   "cell_type": "code",
   "execution_count": 36,
   "metadata": {},
   "outputs": [
    {
     "data": {
      "text/plain": [
       "0    0.996049\n",
       "1    0.003951\n",
       "Name: GITRACTBLEED, dtype: float64"
      ]
     },
     "execution_count": 36,
     "metadata": {},
     "output_type": "execute_result"
    }
   ],
   "source": [
    "# %%\n",
    "# New\n",
    "y.value_counts(normalize=True)"
   ]
  },
  {
   "cell_type": "code",
   "execution_count": 37,
   "metadata": {},
   "outputs": [
    {
     "data": {
      "text/plain": [
       "0    0.996062\n",
       "1    0.003938\n",
       "Name: GITRACTBLEED, dtype: float64"
      ]
     },
     "execution_count": 37,
     "metadata": {},
     "output_type": "execute_result"
    }
   ],
   "source": [
    "# %%\n",
    "# New\n",
    "y_test.value_counts(normalize=True)"
   ]
  },
  {
   "cell_type": "code",
   "execution_count": 38,
   "metadata": {},
   "outputs": [],
   "source": [
    "# install delong"
   ]
  },
  {
   "cell_type": "code",
   "execution_count": 39,
   "metadata": {},
   "outputs": [],
   "source": [
    "# # %%\n",
    "# # New\n",
    "\n",
    "# p_val = delong.delong_roc_test(y_test, lr_y_pred, xgb_y_pred)\n",
    "# p_val2 = delong.delong_roc_test(y_test, lr_y_pred, rf_y_pred)"
   ]
  },
  {
   "cell_type": "code",
   "execution_count": 40,
   "metadata": {},
   "outputs": [],
   "source": [
    "# # %%\n",
    "# # New\n",
    "\n",
    "# 10 ** (p_val[0][0])"
   ]
  },
  {
   "cell_type": "code",
   "execution_count": 41,
   "metadata": {},
   "outputs": [],
   "source": [
    "# # %%\n",
    "# # New\n",
    "\n",
    "# 10 ** (p_val2[0][0])"
   ]
  },
  {
   "cell_type": "code",
   "execution_count": 42,
   "metadata": {},
   "outputs": [
    {
     "data": {
      "text/plain": [
       "Text(0.5, 0, 'XGBoost Feature Importance')"
      ]
     },
     "execution_count": 42,
     "metadata": {},
     "output_type": "execute_result"
    },
    {
     "data": {
      "image/png": "[encoded data removed]",
      "text/plain": [
       "<Figure size 432x288 with 1 Axes>"
      ]
     },
     "metadata": {
      "needs_background": "light"
     },
     "output_type": "display_data"
    }
   ],
   "source": [
    "sorted_idx = xgb.feature_importances_.argsort()\n",
    "plt.barh(X.columns[sorted_idx], xgb.feature_importances_[sorted_idx])\n",
    "plt.xlabel(\"XGBoost Feature Importance\")"
   ]
  },
  {
   "cell_type": "code",
   "execution_count": null,
   "metadata": {},
   "outputs": [],
   "source": []
  },
  {
   "cell_type": "code",
   "execution_count": 43,
   "metadata": {},
   "outputs": [
    {
     "name": "stdout",
     "output_type": "stream",
     "text": [
      "1000/1000 [==============================] - 4s 3ms/step\n",
      "Random Forest AUROC: (0.7501294875906259, 0.7525421432406935, 0.754954798890761) AUROC CI: (0.7501294875906259, 0.7525421432406935, 0.754954798890761)\n",
      "XGBoost AUROC: (0.7324615557392021, 0.7349292025435878, 0.7373968493479736) AUROC CI: (0.7324615557392021, 0.7349292025435878, 0.7373968493479736)\n",
      "Logistic Regression AUROC: (0.6901390240187665, 0.6927184669135337, 0.6952979098083009) AUROC CI: (0.6901390240187665, 0.6927184669135337, 0.6952979098083009)\n",
      "Neural Network AUROC: (0.701467128230697, 0.7040192612118803, 0.7065713941930636) AUROC CI: (0.701467128230697, 0.7040192612118803, 0.7065713941930636)\n"
     ]
    }
   ],
   "source": [
    "# %%\n",
    "nn_y_pred = nn.predict(X_test)\n",
    "rf_confidence = auroc_ci(y_test, rf_y_pred)\n",
    "xgb_confidence = auroc_ci(y_test, xgb_y_pred)\n",
    "lr_confidence = auroc_ci(y_test, lr_y_pred)\n",
    "nn_confidence = auroc_ci(y_test, nn_y_pred)\n",
    "print('Random Forest AUROC:', rf_confidence, 'AUROC CI:', rf_confidence)\n",
    "print('XGBoost AUROC:', xgb_confidence, 'AUROC CI:', xgb_confidence)\n",
    "print('Logistic Regression AUROC:', lr_confidence, 'AUROC CI:', lr_confidence)\n",
    "print('Neural Network AUROC:', nn_confidence, 'AUROC CI:', nn_confidence)"
   ]
  },
  {
   "cell_type": "code",
   "execution_count": 44,
   "metadata": {},
   "outputs": [],
   "source": [
    "# %%\n",
    "#create labels for roc curves\n",
    "rf_label = 'RF: ' + str(round(rf_confidence[1], 3)) + ' (' + str(round(rf_confidence[0], 3)) + ' - ' + str(round(rf_confidence[2], 3)) + ')'\n",
    "xgb_label = 'XGB: ' + str(round(xgb_confidence[1], 3)) + ' (' + str(round(xgb_confidence[0], 3)) + ' - ' + str(round(xgb_confidence[2], 3)) + ')'\n",
    "nn_label = 'NN: ' + str(round(nn_confidence[1], 3)) + ' (' + str(round(nn_confidence[0], 3)) + ' - ' + str(round(nn_confidence[2], 3)) + ')'\n",
    "lr_label = 'LR: ' + str(round(lr_confidence[1], 3)) + ' (' + str(round(lr_confidence[0], 3)) + ' - ' + str(round(lr_confidence[2], 3)) + ')'\n",
    "#calculate tpr and fpr for each model\n",
    "rf_fpr, rf_tpr, _ = roc_curve(y_test, rf_y_pred)\n",
    "xgb_fpr, xgb_tpr, _ = roc_curve(y_test, xgb_y_pred)\n",
    "nn_fpr, nn_tpr, _ = roc_curve(y_test, nn_y_pred)\n",
    "lr_fpr, lr_tpr, _ = roc_curve(y_test, lr_y_pred)"
   ]
  },
  {
   "cell_type": "code",
   "execution_count": 45,
   "metadata": {},
   "outputs": [
    {
     "data": {
      "image/png": "[encoded data removed]",
      "text/plain": [
       "<Figure size 720x720 with 1 Axes>"
      ]
     },
     "metadata": {
      "needs_background": "light"
     },
     "output_type": "display_data"
    }
   ],
   "source": [
    "# %%\n",
    "import matplotlib\n",
    "matplotlib.rcParams.update({'font.size': 16})\n",
    "#plot the ROC curves for each model\n",
    "plt.figure(figsize=(10,10))\n",
    "plt.plot(lr_fpr, lr_tpr, color='red', label=lr_label)\n",
    "plt.plot(rf_fpr, rf_tpr, color='deepskyblue', label=rf_label)\n",
    "plt.plot(xgb_fpr, xgb_tpr, color='steelblue', label=xgb_label)\n",
    "plt.plot(nn_fpr, nn_tpr, color='dodgerblue', label=nn_label)\n",
    "plt.plot([0, 1], [0, 1], color='black', linestyle='--')\n",
    "plt.legend(loc=\"lower right\")\n",
    "plt.xlabel('False Positive Rate')\n",
    "plt.ylabel('True Positive Rate')\n",
    "plt.xlim([0.0, 1.0])\n",
    "plt.savefig('roc_bleed_cptdc_nopost_noint_ab.png')"
   ]
  },
  {
   "cell_type": "code",
   "execution_count": 46,
   "metadata": {},
   "outputs": [
    {
     "data": {
      "image/png": "[encoded data removed]",
      "text/plain": [
       "<Figure size 720x720 with 1 Axes>"
      ]
     },
     "metadata": {
      "needs_background": "light"
     },
     "output_type": "display_data"
    }
   ],
   "source": [
    "# %%\n",
    "rf_auprc_ci = auprc_ci(y_test, rf_y_pred)\n",
    "xgb_auprc_ci = auprc_ci(y_test, xgb_y_pred)\n",
    "lr_auprc_ci = auprc_ci(y_test, lr_y_pred)\n",
    "nn_auprc_ci = auprc_ci(y_test, nn_y_pred)\n",
    "#calculate precision and recall for each model\n",
    "rf_precision, rf_recall, _ = precision_recall_curve(y_test, rf_y_pred)\n",
    "xgb_precision, xgb_recall, _ = precision_recall_curve(y_test, xgb_y_pred)\n",
    "nn_precision, nn_recall, _ = precision_recall_curve(y_test, nn_y_pred)\n",
    "lr_precision, lr_recall, _ = precision_recall_curve(y_test, lr_y_pred)\n",
    "#create labels for precision recall curves\n",
    "rf_prc_label = 'RF: ' + str(round(rf_auprc_ci[1], 3)) + ' (' + str(round(rf_auprc_ci[0], 3)) + ' - ' + str(round(rf_auprc_ci[2], 3)) + ')'\n",
    "xgb_prc_label = 'XGB: ' + str(round(xgb_auprc_ci[1], 3)) + ' (' + str(round(xgb_auprc_ci[0], 3)) + ' - ' + str(round(xgb_auprc_ci[2], 3)) + ')'\n",
    "nn_prc_label = 'NN: ' + str(round(nn_auprc_ci[1], 3)) + ' (' + str(round(nn_auprc_ci[0], 3)) + ' - ' + str(round(nn_auprc_ci[2], 3)) + ')'\n",
    "lr_prc_label = 'LR: ' + str(round(lr_auprc_ci[1], 3)) + ' (' + str(round(lr_auprc_ci[0], 3)) + ' - ' + str(round(lr_auprc_ci[2], 3)) + ')'\n",
    "#plot the precision recall curves for each model\n",
    "matplotlib.rcParams.update({'font.size': 16})\n",
    "#plot the ROC curves for each model\n",
    "plt.figure(figsize=(10,10))\n",
    "plt.plot(lr_recall, lr_precision, color='red', label=lr_prc_label)\n",
    "plt.plot(rf_recall, rf_precision, color='deepskyblue', label=rf_prc_label)\n",
    "plt.plot(xgb_recall, xgb_precision, color='steelblue', label=xgb_prc_label)\n",
    "plt.plot(nn_recall, nn_precision, color='dodgerblue', label=nn_prc_label)\n",
    "plt.legend(loc=\"upper right\")\n",
    "plt.xlabel('Recall')\n",
    "plt.ylabel('Precision')\n",
    "plt.xlim([0.0, 1.0])\n",
    "plt.savefig('prc_bleed_cptdc_nopost_noint_ab.png')"
   ]
  },
  {
   "cell_type": "code",
   "execution_count": 47,
   "metadata": {},
   "outputs": [],
   "source": [
    "# %%\n",
    "xgb.fit(X, y)\n",
    "fi = xgb.feature_importances_\n",
    "fi_sorted = np.argsort(fi)\n",
    "fi_sorted = fi_sorted[::-1]\n",
    "fi_sorted = fi_sorted[:15]"
   ]
  },
  {
   "cell_type": "code",
   "execution_count": 48,
   "metadata": {},
   "outputs": [
    {
     "data": {
      "image/png": "[encoded data removed]",
      "text/plain": [
       "<Figure size 720x720 with 1 Axes>"
      ]
     },
     "metadata": {
      "needs_background": "light"
     },
     "output_type": "display_data"
    }
   ],
   "source": [
    "# %%\n",
    "#plot the top 15 feature on a horizontal bar chart, with highest on the top\n",
    "plt.figure(figsize=(10,10))\n",
    "plt.barh(np.arange(15), fi[fi_sorted], color='steelblue')\n",
    "plt.yticks(np.arange(15), X.columns[fi_sorted])\n",
    "plt.xlabel('Feature Importance')\n",
    "plt.ylabel('Feature')\n",
    "plt.savefig('xgb_fi_bleed_cptdc_nopost_noint_ab.png', bbox_inches='tight')"
   ]
  },
  {
   "cell_type": "code",
   "execution_count": 49,
   "metadata": {},
   "outputs": [],
   "source": [
    "rf.fit(X, y)\n",
    "fi = rf.feature_importances_\n",
    "fi_sorted = np.argsort(fi)\n",
    "fi_sorted = fi_sorted[::-1]\n",
    "fi_sorted = fi_sorted[:15]"
   ]
  },
  {
   "cell_type": "code",
   "execution_count": 50,
   "metadata": {},
   "outputs": [
    {
     "data": {
      "image/png": "[encoded data removed]",
      "text/plain": [
       "<Figure size 720x720 with 1 Axes>"
      ]
     },
     "metadata": {
      "needs_background": "light"
     },
     "output_type": "display_data"
    }
   ],
   "source": [
    "# %%\n",
    "#plot the top 15 feature on a horizontal bar chart, with highest on the top\n",
    "plt.figure(figsize=(10,10))\n",
    "plt.barh(np.arange(15), fi[fi_sorted], color='steelblue')\n",
    "plt.yticks(np.arange(15), X.columns[fi_sorted])\n",
    "plt.xlabel('Feature Importance')\n",
    "plt.ylabel('Feature')\n",
    "plt.savefig('rf_fi_bleed_cptdc_nopost_noint_ab.png', bbox_inches='tight')"
   ]
  },
  {
   "cell_type": "code",
   "execution_count": 51,
   "metadata": {},
   "outputs": [
    {
     "data": {
      "image/png": "[encoded data removed]",
      "text/plain": [
       "<Figure size 432x288 with 1 Axes>"
      ]
     },
     "metadata": {
      "needs_background": "light"
     },
     "output_type": "display_data"
    }
   ],
   "source": [
    "# %%\n",
    "from sklearn.metrics import recall_score\n",
    "from imblearn.metrics import specificity_score\n",
    "import numpy as np\n",
    "thresh = np.arange(0, 1, 0.00001)\n",
    "#create a dataframe to store the sensitivity and specificity at each threshold for each model\n",
    "lr_senspec = pd.DataFrame(columns=['thresh', 'sens','spec'])\n",
    "xgb_senspec = pd.DataFrame(columns=['thresh', 'sens','spec'])\n",
    "rf_senspec = pd.DataFrame(columns=['thresh', 'sens','spec'])\n",
    "lr_sens = {}\n",
    "lr_spec = {}\n",
    "xgb_sens = {}\n",
    "xgb_spec = {}\n",
    "rf_sens = {}\n",
    "rf_spec = {}\n",
    "for t in thresh:\n",
    "    lr_sens[t] = recall_score(y_test, lr_y_pred > t)\n",
    "    lr_spec[t] = specificity_score(y_test, lr_y_pred > t)\n",
    "    xgb_sens[t] = recall_score(y_test, xgb_y_pred > t)\n",
    "    xgb_spec[t] = specificity_score(y_test, xgb_y_pred > t)\n",
    "    rf_sens[t] = recall_score(y_test, rf_y_pred > t)\n",
    "    rf_spec[t] = specificity_score(y_test, rf_y_pred > t)\n",
    "#add each dictionary to the dataframe\n",
    "lr_senspec['thresh'] = lr_sens.keys()\n",
    "lr_senspec['sens'] = lr_sens.values()\n",
    "lr_senspec['spec'] = lr_spec.values()\n",
    "xgb_senspec['thresh'] = xgb_sens.keys()\n",
    "xgb_senspec['sens'] = xgb_sens.values()\n",
    "xgb_senspec['spec'] = xgb_spec.values()\n",
    "rf_senspec['thresh'] = rf_sens.keys()\n",
    "rf_senspec['sens'] = rf_sens.values()\n",
    "rf_senspec['spec'] = rf_spec.values()\n",
    "#plot the sensitivity and specificity\n",
    "plt.plot(lr_senspec['thresh'], lr_senspec['sens'], label='LR')\n",
    "plt.plot(xgb_senspec['thresh'], xgb_senspec['sens'], label='xgb')\n",
    "plt.plot(rf_senspec['thresh'], rf_senspec['sens'], label='rf')\n",
    "plt.plot(lr_senspec['thresh'], lr_senspec['spec'], label='LR')\n",
    "plt.plot(xgb_senspec['thresh'], xgb_senspec['spec'], label='xgb')\n",
    "plt.plot(rf_senspec['thresh'], rf_senspec['spec'], label='rf')\n",
    "plt.legend()\n",
    "plt.xlabel('Threshold')\n",
    "plt.ylabel('Sensitivity/Specificity')\n",
    "plt.title('Sensitivity/Specificity vs Threshold')\n",
    "plt.show()"
   ]
  },
  {
   "cell_type": "code",
   "execution_count": 52,
   "metadata": {},
   "outputs": [],
   "source": [
    "# %%\n",
    "xgb_senatspec = {}\n",
    "rf_senatspec = {}\n",
    "lr_senatspec = {}\n",
    "#find the value for xgb sensitivity where specificity is close to 90%\n",
    "xgb_senatspec[90] = float(str(xgb_senspec['sens'].loc[round(xgb_senspec['spec'],1) == 0.900]).split()[1])\n",
    "rf_senatspec[90] = float(str(rf_senspec['sens'].loc[round(rf_senspec['spec'],1) == 0.900]).split()[1])\n",
    "lr_senatspec[90] = float(str(lr_senspec['sens'].loc[round(lr_senspec['spec'],1) == 0.900]).split()[1])\n",
    "\n",
    "xgb_senatspec[70] = float(str(xgb_senspec['sens'].loc[round(xgb_senspec['spec'],1) == 0.700]).split()[1])\n",
    "rf_senatspec[70] = float(str(rf_senspec['sens'].loc[round(rf_senspec['spec'],1) == 0.700]).split()[1])\n",
    "lr_senatspec[70] = float(str(lr_senspec['sens'].loc[round(lr_senspec['spec'],1) == 0.700]).split()[1])\n",
    "\n",
    "xgb_senatspec[50] = float(str(xgb_senspec['sens'].loc[round(xgb_senspec['spec'],1) == 0.500]).split()[1])\n",
    "rf_senatspec[50] = float(str(rf_senspec['sens'].loc[round(rf_senspec['spec'],1) == 0.500]).split()[1])\n",
    "lr_senatspec[50] = float(str(lr_senspec['sens'].loc[round(lr_senspec['spec'],1) == 0.500]).split()[1])\n",
    "\n",
    "xgb_senatspec[30] = float(str(xgb_senspec['sens'].loc[round(xgb_senspec['spec'],1) == 0.300]).split()[1])\n",
    "rf_senatspec[30] = float(str(rf_senspec['sens'].loc[round(rf_senspec['spec'],1) == 0.300]).split()[1])\n",
    "lr_senatspec[30] = float(str(lr_senspec['sens'].loc[round(lr_senspec['spec'],1) == 0.300]).split()[1])"
   ]
  },
  {
   "cell_type": "code",
   "execution_count": 53,
   "metadata": {},
   "outputs": [],
   "source": [
    "# %%\n",
    "xgb_senatspec[10] = float(str(xgb_senspec['sens'].loc[round(xgb_senspec['spec'],1) == 0.100]).split()[1])\n",
    "rf_senatspec[10] = float(str(rf_senspec['sens'].loc[round(rf_senspec['spec'],1) == 0.100]).split()[1])\n",
    "lr_senatspec[10] = float(str(lr_senspec['sens'].loc[round(lr_senspec['spec'],1) == 0.100]).split()[1])"
   ]
  },
  {
   "cell_type": "code",
   "execution_count": 54,
   "metadata": {},
   "outputs": [
    {
     "data": {
      "text/plain": [
       "<AxesSubplot:>"
      ]
     },
     "execution_count": 54,
     "metadata": {},
     "output_type": "execute_result"
    },
    {
     "data": {
      "image/png": "[encoded data removed]",
      "text/plain": [
       "<Figure size 432x288 with 1 Axes>"
      ]
     },
     "metadata": {
      "needs_background": "light"
     },
     "output_type": "display_data"
    }
   ],
   "source": [
    "# %%\n",
    "xgb_senspec['spec'].hist()"
   ]
  },
  {
   "cell_type": "code",
   "execution_count": 55,
   "metadata": {},
   "outputs": [],
   "source": [
    "# %%\n",
    "#write xgb_senatspec to a csv file\n",
    "xgb_senatspec_df = pd.DataFrame.from_dict(xgb_senatspec, orient='index')\n",
    "xgb_senatspec_df.columns = ['sensitivity']\n",
    "#rename index to 'specificity'\n",
    "xgb_senatspec_df.index.name = 'specificity'\n",
    "xgb_senatspec_df.to_csv('xgb_senspec_bleed_cptdc_nopost_noint_ab.csv')\n",
    "\n",
    "rf_senatspec_df = pd.DataFrame.from_dict(rf_senatspec, orient='index')\n",
    "rf_senatspec_df.columns = ['sensitivity']\n",
    "#rename index to 'specificity'\n",
    "rf_senatspec_df.index.name = 'specificity'\n",
    "rf_senatspec_df.to_csv('rf_senspec_bleed_cptdc_nopost_noint_ab.csv')\n",
    "\n",
    "lr_senatspec_df = pd.DataFrame.from_dict(lr_senatspec, orient='index')\n",
    "lr_senatspec_df.columns = ['sensitivity']\n",
    "#rename index to 'specificity'\n",
    "lr_senatspec_df.index.name = 'specificity'\n",
    "lr_senatspec_df.to_csv('lr_senspec_bleed_cptdc_nopost_noint_ab.csv')"
   ]
  },
  {
   "cell_type": "code",
   "execution_count": null,
   "metadata": {},
   "outputs": [],
   "source": []
  },
  {
   "cell_type": "code",
   "execution_count": null,
   "metadata": {},
   "outputs": [],
   "source": []
  }
 ],
 "metadata": {
  "kernelspec": {
   "display_name": "Python 3 (ipykernel)",
   "language": "python",
   "name": "python3"
  },
  "language_info": {
   "codemirror_mode": {
    "name": "ipython",
    "version": 3
   },
   "file_extension": ".py",
   "mimetype": "text/x-python",
   "name": "python",
   "nbconvert_exporter": "python",
   "pygments_lexer": "ipython3",
   "version": "3.9.7"
  },
  "vscode": {
   "interpreter": {
    "hash": "916dbcbb3f70747c44a77c7bcd40155683ae19c65e1c03b4aa3499c5328201f1"
   }
  }
 },
 "nbformat": 4,
 "nbformat_minor": 4
}
